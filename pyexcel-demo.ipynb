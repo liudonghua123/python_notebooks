{
 "cells": [
  {
   "cell_type": "markdown",
   "metadata": {},
   "source": [
    "# Python处理excel\n",
    "\n",
    "\n",
    "使用 [pyexcel](https://pyexcel.readthedocs.io/en/latest/index.html) 处理excel文件，主要使用 按行操作（`get_records`、`save_as`） 和 按列操作（`get_dict`、`save_book_as`）\n",
    "\n",
    "\n",
    "### 安装 pyexcel\n",
    "\n",
    "打开cmd，运行`pip install pyexcel pyexcel-xls pyexcel-xlsx` 或者 `pip install -i https://pypi.tuna.tsinghua.edu.cn/simple pyexcel pyexcel-xls pyexcel-xlsx`，如果有提示Permission Denied、权限不足类似的错误信息，则需要在管理员权限打开的cmd中来运行\n",
    "\n",
    "Update（2018-10-24）： 可以直接在`notebook`中通过`!pip install pyexcel pyexcel-xls pyexcel-xlsx`来安装"
   ]
  },
  {
   "cell_type": "code",
   "execution_count": null,
   "metadata": {},
   "outputs": [],
   "source": [
    "!pip install pyexcel pyexcel-xls pyexcel-xlsx"
   ]
  },
  {
   "cell_type": "code",
   "execution_count": 2,
   "metadata": {},
   "outputs": [],
   "source": [
    "import pyexcel"
   ]
  },
  {
   "cell_type": "markdown",
   "metadata": {},
   "source": [
    "假设`student_scores.xlsx`的文件的内容如下：\n",
    "\n",
    "| name | math_score | english_score |\n",
    "|:---:|:---:|:---:|\n",
    "| 张三 | 78 | 85 |\n",
    "| 李四 | 76 | 87 |\n",
    "| 王五 | 89 | 91 |"
   ]
  },
  {
   "cell_type": "markdown",
   "metadata": {},
   "source": [
    "### 第一种方法基于按行操作\n",
    "\n",
    "`get_records` 返回 excel文件第一个sheet的数据，是以行为单位的*有序*字典列表，第一行每一列作为key（标题），从第二行开始是真正的数据"
   ]
  },
  {
   "cell_type": "code",
   "execution_count": 18,
   "metadata": {},
   "outputs": [],
   "source": [
    "records = pyexcel.get_records(file_name=\"student_scores.xlsx\")"
   ]
  },
  {
   "cell_type": "code",
   "execution_count": 20,
   "metadata": {},
   "outputs": [
    {
     "name": "stdout",
     "output_type": "stream",
     "text": [
      "<class 'list'> <class 'collections.OrderedDict'> [OrderedDict([('name', '张三'), ('math_score', 78), ('english_score', 85)]), OrderedDict([('name', '李四'), ('math_score', 76), ('english_score', 87)]), OrderedDict([('name', '王五'), ('math_score', 89), ('english_score', 91)])]\n"
     ]
    }
   ],
   "source": [
    "print(type(records), type(records[0]), records)"
   ]
  },
  {
   "cell_type": "markdown",
   "metadata": {},
   "source": [
    "*定义三个变量用来存储 数学总成绩、英语总成绩和总人数*，然后使用for循环去遍历每一列的数据，分别针对数学成绩、英语成绩、总人数进行累加，最后求平均值得到最终结果，最后构造一个列表，每一项是一个列表，作为excel每一行的值，然后使用save_as方法保存该数据到excel文件中"
   ]
  },
  {
   "cell_type": "code",
   "execution_count": 28,
   "metadata": {},
   "outputs": [],
   "source": [
    "math_scores = 0\n",
    "english_scores = 0\n",
    "student_count = 0"
   ]
  },
  {
   "cell_type": "code",
   "execution_count": 29,
   "metadata": {},
   "outputs": [],
   "source": [
    "for record in records:\n",
    "    math_scores += record['math_score']\n",
    "    english_scores += record['english_score']\n",
    "    student_count += 1"
   ]
  },
  {
   "cell_type": "code",
   "execution_count": 30,
   "metadata": {},
   "outputs": [],
   "source": [
    "average_math_score= math_scores / student_count\n",
    "average_english_score= english_scores / student_count"
   ]
  },
  {
   "cell_type": "code",
   "execution_count": 31,
   "metadata": {},
   "outputs": [
    {
     "name": "stdout",
     "output_type": "stream",
     "text": [
      "243 263 3 81.0 87.66666666666667\n"
     ]
    }
   ],
   "source": [
    "print(math_scores, english_scores, student_count, average_math_score, average_english_score)"
   ]
  },
  {
   "cell_type": "code",
   "execution_count": 10,
   "metadata": {},
   "outputs": [],
   "source": [
    "data = [['average_math_score', 'average_english_score'], [average_math_score, average_english_score]]"
   ]
  },
  {
   "cell_type": "code",
   "execution_count": 11,
   "metadata": {},
   "outputs": [],
   "source": [
    "pyexcel.save_as(array=data, dest_file_name=\"summary.xlsx\")"
   ]
  },
  {
   "cell_type": "markdown",
   "metadata": {},
   "source": [
    "### 第二种方法基于按列操作\n",
    "\n",
    "`get_dict` 同样返回excel文件第一个sheet的数据，不过不是以行为单位的列表，而是以列为单位的*有序*字典，第一行每一列作为key（标题），其值是该列下面所有数据的一个列表"
   ]
  },
  {
   "cell_type": "code",
   "execution_count": 21,
   "metadata": {},
   "outputs": [],
   "source": [
    "dicts = pyexcel.get_dict(file_name=\"student_scores.xlsx\")"
   ]
  },
  {
   "cell_type": "code",
   "execution_count": 23,
   "metadata": {},
   "outputs": [
    {
     "name": "stdout",
     "output_type": "stream",
     "text": [
      "<class 'collections.OrderedDict'> <class 'pyexcel.internal.sheets.extended_list.PyexcelList'> OrderedDict([('name', ['张三', '李四', '王五']), ('math_score', [78, 76, 89]), ('english_score', [85, 87, 91])])\n"
     ]
    }
   ],
   "source": [
    "print(type(dicts), type(dicts['name']), dicts)"
   ]
  },
  {
   "cell_type": "markdown",
   "metadata": {},
   "source": [
    "这里为了计算平均值，使用python里面的`map`、`filter`、`reduce`函数以及`lambda`表达式，可以参考 [Lambda, filter, reduce and map](https://www.python-course.eu/python3_lambda.php)、[Map, Filter and Reduce](http://book.pythontips.com/en/latest/map_filter.html) \n",
    "\n",
    "需要注意使用`reduce`的时候需要从`functools`中引入"
   ]
  },
  {
   "cell_type": "code",
   "execution_count": 24,
   "metadata": {},
   "outputs": [],
   "source": [
    "from functools import reduce"
   ]
  },
  {
   "cell_type": "code",
   "execution_count": 38,
   "metadata": {},
   "outputs": [],
   "source": [
    "math_scores = reduce((lambda x,y: x + y), dicts['math_score'])\n",
    "english_scores = reduce((lambda x,y: x + y), dicts['english_score'])\n",
    "student_count = len(dicts['name'])"
   ]
  },
  {
   "cell_type": "code",
   "execution_count": 39,
   "metadata": {},
   "outputs": [],
   "source": [
    "average_math_score= math_scores / student_count\n",
    "average_english_score= english_scores / student_count"
   ]
  },
  {
   "cell_type": "code",
   "execution_count": 40,
   "metadata": {},
   "outputs": [
    {
     "name": "stdout",
     "output_type": "stream",
     "text": [
      "243 263 3 81.0 87.66666666666667\n"
     ]
    }
   ],
   "source": [
    "print(math_scores, english_scores, student_count, average_math_score, average_english_score)"
   ]
  },
  {
   "cell_type": "code",
   "execution_count": 41,
   "metadata": {},
   "outputs": [],
   "source": [
    "data = {\n",
    "    'average_scores': [\n",
    "        ['average_math_score', 'average_english_score'],\n",
    "        [average_math_score, average_english_score]\n",
    "    ]\n",
    "}"
   ]
  },
  {
   "cell_type": "code",
   "execution_count": 42,
   "metadata": {},
   "outputs": [],
   "source": [
    "pyexcel.save_book_as(bookdict=data, dest_file_name=\"summary2.xlsx\")"
   ]
  }
 ],
 "metadata": {
  "kernelspec": {
   "display_name": "Python 3",
   "language": "python",
   "name": "python3"
  },
  "language_info": {
   "codemirror_mode": {
    "name": "ipython",
    "version": 3
   },
   "file_extension": ".py",
   "mimetype": "text/x-python",
   "name": "python",
   "nbconvert_exporter": "python",
   "pygments_lexer": "ipython3",
   "version": "3.6.4"
  }
 },
 "nbformat": 4,
 "nbformat_minor": 2
}
