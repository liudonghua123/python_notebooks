{
 "cells": [
  {
   "cell_type": "markdown",
   "metadata": {},
   "source": [
    "# 函数"
   ]
  },
  {
   "cell_type": "markdown",
   "metadata": {},
   "source": [
    "### 函数中的参数值传递方式\n",
    "\n",
    "1. call by value (值传递，传递到函数中的参数值是一份复制，在函数中修改参数值，在函数中修改参数值*不影响*原值原值)\n",
    "2. call by reference (引用传递，传递到函数中的参数值是其本身值，在函数中修改参数值*会影响*原值)\n",
    "\n"
   ]
  },
  {
   "cell_type": "code",
   "execution_count": 2,
   "metadata": {},
   "outputs": [
    {
     "name": "stdout",
     "output_type": "stream",
     "text": [
      "x value in fun is: 2\n",
      "x value out of fun is: 1\n"
     ]
    }
   ],
   "source": [
    "def func1(x):\n",
    "    x += 1\n",
    "    print(f\"x value in fun is: {x}\")\n",
    "\n",
    "x = 1\n",
    "func1(x)\n",
    "print(f\"x value out of fun is: {x}\")"
   ]
  },
  {
   "cell_type": "code",
   "execution_count": 8,
   "metadata": {},
   "outputs": [
    {
     "name": "stdout",
     "output_type": "stream",
     "text": [
      "x value in fun is: ['c', 'b']\n",
      "x value out of fun is: ['c', 'b']\n"
     ]
    }
   ],
   "source": [
    "def func2(x):\n",
    "    x[0] = 'c'\n",
    "    print(f\"x value in fun is: {x}\")\n",
    "\n",
    "x = ['a', 'b']\n",
    "func2(x)\n",
    "print(f\"x value out of fun is: {x}\")"
   ]
  },
  {
   "cell_type": "code",
   "execution_count": 7,
   "metadata": {},
   "outputs": [
    {
     "name": "stdout",
     "output_type": "stream",
     "text": [
      "x value in fun is: ('a', 'b', 'c')\n",
      "x value out of fun is: ('a', 'b')\n"
     ]
    }
   ],
   "source": [
    "def func2(x):\n",
    "    x = x + ('c',)\n",
    "    print(f\"x value in fun is: {x}\")\n",
    "\n",
    "x = ('a', 'b')\n",
    "func2(x)\n",
    "print(f\"x value out of fun is: {x}\")"
   ]
  },
  {
   "cell_type": "markdown",
   "metadata": {},
   "source": [
    "> Effbot (aka Fredrik Lundh) has described Python's variable passing style as call-by-object: http://effbot.org/zone/call-by-object.htm\n",
    "\n",
    "> Objects are allocated on the heap and pointers to them can be passed around anywhere.\n",
    "\n",
    "\n",
    ">    - When you make an assignment such as x = 1000, a dictionary entry is created that maps the string \"x\" in the current namespace to a pointer to the integer object containing one thousand.\n",
    ">    - When you update \"x\" with x = 2000, a new integer object is created and the dictionary is updated to point at the new object. The old one thousand object is unchanged (and may or may not be alive depending on whether anything else refers to the object).\n",
    ">    - When you do a new assignment such as y = x, a new dictionary entry \"y\" is created that points to the same object as the entry for \"x\".\n",
    ">    - Objects like strings and integers are immutable. This simply means that there are no methods that can change the object after it has been created. For example, once the integer object one-thousand is created, it will never change. Math is done by creating new integer objects.\n",
    ">    - Objects like lists are mutable. This means that the contents of the object can be changed by anything pointing to the object. For example, x = []; y = x; x.append(10); print y will print [10]. The empty list was created. Both \"x\" and \"y\" point to the same list. The append method mutates (updates) the list object (like adding a record to a database) and the result is visible to both \"x\" and \"y\" (just as a database update would be visible to every connection to that database).\n",
    "\n",
    "> https://stackoverflow.com/questions/9696495/python-when-is-a-variable-passed-by-reference-and-when-by-value\n",
    "\n",
    "简单而言\n",
    "- 对于 immutable 的数据类型（int、float、str、tuple等），是值传递，因为不能被修改，只能创建一个副本\n",
    "- 对于 mutable 的数据类型（list、dict等），是引用传递，因为可以修改，为了高效传递值，所以就通过引用传递了\n"
   ]
  },
  {
   "cell_type": "markdown",
   "metadata": {},
   "source": [
    "### 默认参数\n",
    "\n",
    "在Python中可以使用默认参数来简化函数调用，默认参数只能位于非默认参数之后"
   ]
  },
  {
   "cell_type": "code",
   "execution_count": 11,
   "metadata": {},
   "outputs": [
    {
     "name": "stdout",
     "output_type": "stream",
     "text": [
      "pow(2,3)=8\n",
      "pow(2)=4\n"
     ]
    }
   ],
   "source": [
    "def pow(num, power=2):\n",
    "    '''\n",
    "    定义一个求幂的函数，默认是2次幂\n",
    "    '''\n",
    "    return num ** power\n",
    "\n",
    "print(f\"pow(2,3)={pow(2,3)}\")\n",
    "print(f\"pow(2)={pow(2)}\")"
   ]
  },
  {
   "cell_type": "code",
   "execution_count": 14,
   "metadata": {},
   "outputs": [
    {
     "name": "stdout",
     "output_type": "stream",
     "text": [
      "my_list: [12]\n",
      "my_other_list: [12, 42]\n"
     ]
    }
   ],
   "source": [
    "def append_to(element, to=[]):\n",
    "    to.append(element)\n",
    "    return to\n",
    "\n",
    "my_list = append_to(12)\n",
    "print(f\"my_list: {my_list}\")\n",
    "\n",
    "my_other_list = append_to(42)\n",
    "print(f\"my_other_list: {my_other_list}\")"
   ]
  },
  {
   "cell_type": "markdown",
   "metadata": {},
   "source": [
    "上面代码的运行结果是\n",
    "\n",
    "```\n",
    "my_list: [12]\n",
    "my_other_list: [12, 42]\n",
    "```\n",
    "\n",
    "而不是预期的\n",
    "\n",
    "```\n",
    "my_list: [12]\n",
    "my_other_list: [42]\n",
    "```\n",
    "\n",
    "这是因为Python的默认参数是函数定义的时候执行一次的，不是每次调用的时候都执行\n",
    "\n",
    "> Python’s default arguments are evaluated once when the function is defined, not each time the function is called (like it is in say, Ruby). This means that if you use a mutable default argument and mutate it, you will and have mutated that object for all future calls to the function as well.\n",
    "> https://docs.python-guide.org/writing/gotchas/\n",
    "\n",
    "如果想实现预期效果，则代码应该是\n",
    "\n",
    "```python\n",
    "def append_to(element, to=None):\n",
    "    if to is None:\n",
    "        to = []\n",
    "    to.append(element)\n",
    "    return to\n",
    "```"
   ]
  },
  {
   "cell_type": "markdown",
   "metadata": {},
   "source": [
    "### 闭包\n",
    "\n",
    "闭包简而言之——使得局部变量在函数外被访问成为可能\n",
    "\n",
    "维基百科上的解释是:\n",
    "\n",
    "> 在计算机科学中，闭包（Closure）是词法闭包（Lexical Closure）的简称，是引用了自由变量的函数。这个被引用的自由变量将和这个函数一同存在，即使已经离开了创造它的环境也不例外。所以，有另一种说法认为闭包是由函数和与其相关的引用环境组合而成的实体。\n",
    "\n",
    "可以参考以下两篇文章\n",
    "\n",
    "- https://foofish.net/python-closure.html\n",
    "- http://www.ruanyifeng.com/blog/2009/08/learning_javascript_closures.html"
   ]
  },
  {
   "cell_type": "code",
   "execution_count": 16,
   "metadata": {},
   "outputs": [
    {
     "name": "stdout",
     "output_type": "stream",
     "text": [
      "zen of python\n"
     ]
    }
   ],
   "source": [
    "def print_msg():\n",
    "    # print_msg 是外围函数\n",
    "    msg = \"zen of python\"\n",
    "    def printer():\n",
    "        # printer 是嵌套函数\n",
    "        print(msg)\n",
    "    return printer\n",
    "\n",
    "another = print_msg()\n",
    "# 输出 zen of python\n",
    "another()"
   ]
  },
  {
   "cell_type": "markdown",
   "metadata": {},
   "source": [
    "**为什么要使用闭包**\n",
    "\n",
    "闭包避免了使用全局变量，此外，闭包允许将函数与其所操作的某些数据（环境）关连起来。这一点与面向对象编程是非常类似的，在面对象编程中，对象允许我们将某些数据（对象的属性）与一个或者多个方法相关联。\n"
   ]
  },
  {
   "cell_type": "code",
   "execution_count": 17,
   "metadata": {},
   "outputs": [
    {
     "data": {
      "text/plain": [
       "11"
      ]
     },
     "execution_count": 17,
     "metadata": {},
     "output_type": "execute_result"
    }
   ],
   "source": [
    "def adder(x):\n",
    "    def wrapper(y):\n",
    "        return x + y\n",
    "    return wrapper\n",
    "\n",
    "adder5 = adder(5)\n",
    "# 输出 15\n",
    "adder5(10)\n",
    "# 输出 11\n",
    "adder5(6)"
   ]
  },
  {
   "cell_type": "markdown",
   "metadata": {},
   "source": [
    "所有函数都有一个 __closure__属性，如果这个函数是一个闭包的话，那么它返回的是一个由 cell 对象 组成的元组对象。cell 对象的cell_contents 属性就是闭包中的自由变量。"
   ]
  },
  {
   "cell_type": "code",
   "execution_count": 19,
   "metadata": {},
   "outputs": [
    {
     "name": "stdout",
     "output_type": "stream",
     "text": [
      "None\n",
      "(<cell at 0x000001A8606886A8: int object at 0x00007FFA15A693C0>,)\n",
      "5\n"
     ]
    }
   ],
   "source": [
    "print(adder.__closure__)\n",
    "print(adder5.__closure__)\n",
    "print(adder5.__closure__[0].cell_contents)"
   ]
  },
  {
   "cell_type": "markdown",
   "metadata": {},
   "source": [
    "我们再来看一个闭包的例子"
   ]
  },
  {
   "cell_type": "code",
   "execution_count": 20,
   "metadata": {},
   "outputs": [
    {
     "name": "stdout",
     "output_type": "stream",
     "text": [
      "8\n",
      "8\n",
      "8\n",
      "8\n",
      "8\n"
     ]
    }
   ],
   "source": [
    "def create_multipliers():\n",
    "    return [lambda x : i * x for i in range(5)]\n",
    "\n",
    "for multiplier in create_multipliers():\n",
    "    print(multiplier(2))"
   ]
  },
  {
   "cell_type": "markdown",
   "metadata": {},
   "source": [
    "我们预期想输出\n",
    "\n",
    "```\n",
    "0\n",
    "2\n",
    "4\n",
    "6\n",
    "8\n",
    "```\n",
    "\n",
    "而实际输出的却是：\n",
    "\n",
    "```\n",
    "8\n",
    "8\n",
    "8\n",
    "8\n",
    "8\n",
    "```\n",
    "\n",
    "**为什么呢**\n",
    "\n",
    "> Python’s closures are late binding. This means that the values of variables used in closures are looked up at the time the inner function is called.\n",
    "\n",
    "应为Python的闭包是延时绑定的，是在最后被调用的时候才计算的\n",
    "\n",
    "可以使用下面代码来实现预期效果\n",
    "\n",
    "```python\n",
    "def create_multipliers():\n",
    "    multipliers = []\n",
    "\n",
    "    for i in range(5):\n",
    "        def multiplier(x):\n",
    "            return i * x\n",
    "        multipliers.append(multiplier)\n",
    "\n",
    "    return multipliers\n",
    "```\n",
    "\n",
    "> https://docs.python-guide.org/writing/gotchas/\n",
    "\n",
    "也可以使用*立即执行函数*来实现\n",
    "\n",
    "> IIFE（ 立即调用函数表达式）是一个在定义时就会立即执行的  JavaScript 函数。\n",
    "\n",
    ">>```javascript\n",
    "(function () {\n",
    "     statements\n",
    "})();\n",
    "```\n",
    "\n",
    "> 这是一个被称为 自执行匿名函数 的设计模式，主要包含两部分。第一部分是包围在 圆括号运算符 () 里的一个匿名函数，这个匿名函数拥有独立的词法作用域。这不仅避免了外界访问此 IIFE 中的变量，而且又不会污染全局作用域。\n",
    "\n",
    "> https://developer.mozilla.org/zh-CN/docs/Glossary/立即执行函数表达式\n",
    "\n",
    "```python\n",
    "def create_multipliers():\n",
    "    multipliers = []\n",
    "\n",
    "    for i in range(5):\n",
    "        def multiplier(num):\n",
    "            def _inner(x):\n",
    "                return num * x\n",
    "            return _inner\n",
    "        multipliers.append(multiplier(i))\n",
    "\n",
    "    return multipliers\n",
    "```\n",
    "\n",
    "下面的代码是对上面的立即执行函数用lambda简写的形式"
   ]
  },
  {
   "cell_type": "code",
   "execution_count": 29,
   "metadata": {},
   "outputs": [
    {
     "name": "stdout",
     "output_type": "stream",
     "text": [
      "0\n",
      "2\n",
      "4\n",
      "6\n",
      "8\n"
     ]
    }
   ],
   "source": [
    "def create_multipliers():\n",
    "    return [(lambda num: (lambda x: num * x))(i) for i in range(5)]\n",
    "\n",
    "for multiplier in create_multipliers():\n",
    "    print(multiplier(2))"
   ]
  },
  {
   "cell_type": "code",
   "execution_count": null,
   "metadata": {},
   "outputs": [],
   "source": []
  }
 ],
 "metadata": {
  "kernelspec": {
   "display_name": "Python 3",
   "language": "python",
   "name": "python3"
  },
  "language_info": {
   "codemirror_mode": {
    "name": "ipython",
    "version": 3
   },
   "file_extension": ".py",
   "mimetype": "text/x-python",
   "name": "python",
   "nbconvert_exporter": "python",
   "pygments_lexer": "ipython3",
   "version": "3.7.3"
  }
 },
 "nbformat": 4,
 "nbformat_minor": 2
}
